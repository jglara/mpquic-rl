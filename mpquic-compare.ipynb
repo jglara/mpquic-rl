{
 "cells": [
  {
   "cell_type": "code",
   "execution_count": 27,
   "metadata": {},
   "outputs": [],
   "source": [
    "import pandas as pd\n",
    "import matplotlib.pyplot as plt\n",
    "import matplotlib.dates as mdates\n",
    "%matplotlib inline\n",
    "\n",
    "import os\n",
    "TOPOS=[\"topo1\", \"topo2\", \"topo3\"]\n",
    "SCHED=[\"ecf\", \"rtt\", \"rr\"]\n",
    "REP=3\n"
   ]
  },
  {
   "cell_type": "code",
   "execution_count": 28,
   "metadata": {},
   "outputs": [
    {
     "name": "stderr",
     "output_type": "stream",
     "text": [
      "[sudo] password for ejogarv: "
     ]
    },
    {
     "name": "stdout",
     "output_type": "stream",
     "text": [
      " RUST_LOG=info ./mpquic-quiche/target/debug/mp_server --listen 10.0.3.10:4433 --cert ./mpquic-quiche/src/bin/cert.crt --key ./mpquic-quiche/src/bin/cert.key --root ./ --scheduler ecf --path-stats-output topo1-ecf/path-0.csv --conn-stats-output topo1-ecf/conn-0.csv --sched-stats-output topo1-ecf/ecf-0.csv > topo1-ecf/server0.log&\n",
      " RUST_LOG=info ./mpquic-quiche/target/debug/mp_client -l 10.0.1.1:5555 -w 10.0.2.1:6666 --url https://10.0.3.10:4433/test.bin --download-stats-output topo1-ecf/download-0.csv> topo1-ecf/client0.log\n",
      " RUST_LOG=info ./mpquic-quiche/target/debug/mp_server --listen 10.0.3.10:4433 --cert ./mpquic-quiche/src/bin/cert.crt --key ./mpquic-quiche/src/bin/cert.key --root ./ --scheduler ecf --path-stats-output topo1-ecf/path-1.csv --conn-stats-output topo1-ecf/conn-1.csv --sched-stats-output topo1-ecf/ecf-1.csv > topo1-ecf/server1.log&\n",
      " RUST_LOG=info ./mpquic-quiche/target/debug/mp_client -l 10.0.1.1:5555 -w 10.0.2.1:6666 --url https://10.0.3.10:4433/test.bin --download-stats-output topo1-ecf/download-1.csv> topo1-ecf/client1.log\n",
      " RUST_LOG=info ./mpquic-quiche/target/debug/mp_server --listen 10.0.3.10:4433 --cert ./mpquic-quiche/src/bin/cert.crt --key ./mpquic-quiche/src/bin/cert.key --root ./ --scheduler ecf --path-stats-output topo1-ecf/path-2.csv --conn-stats-output topo1-ecf/conn-2.csv --sched-stats-output topo1-ecf/ecf-2.csv > topo1-ecf/server2.log&\n",
      " RUST_LOG=info ./mpquic-quiche/target/debug/mp_client -l 10.0.1.1:5555 -w 10.0.2.1:6666 --url https://10.0.3.10:4433/test.bin --download-stats-output topo1-ecf/download-2.csv> topo1-ecf/client2.log\n",
      " RUST_LOG=info ./mpquic-quiche/target/debug/mp_server --listen 10.0.3.10:4433 --cert ./mpquic-quiche/src/bin/cert.crt --key ./mpquic-quiche/src/bin/cert.key --root ./ --scheduler ecf --path-stats-output topo1-ecf/path-3.csv --conn-stats-output topo1-ecf/conn-3.csv --sched-stats-output topo1-ecf/ecf-3.csv > topo1-ecf/server3.log&\n",
      " RUST_LOG=info ./mpquic-quiche/target/debug/mp_client -l 10.0.1.1:5555 -w 10.0.2.1:6666 --url https://10.0.3.10:4433/test.bin --download-stats-output topo1-ecf/download-3.csv> topo1-ecf/client3.log\n",
      " RUST_LOG=info ./mpquic-quiche/target/debug/mp_server --listen 10.0.3.10:4433 --cert ./mpquic-quiche/src/bin/cert.crt --key ./mpquic-quiche/src/bin/cert.key --root ./ --scheduler ecf --path-stats-output topo1-ecf/path-4.csv --conn-stats-output topo1-ecf/conn-4.csv --sched-stats-output topo1-ecf/ecf-4.csv > topo1-ecf/server4.log&\n",
      " RUST_LOG=info ./mpquic-quiche/target/debug/mp_client -l 10.0.1.1:5555 -w 10.0.2.1:6666 --url https://10.0.3.10:4433/test.bin --download-stats-output topo1-ecf/download-4.csv> topo1-ecf/client4.log\n"
     ]
    },
    {
     "name": "stderr",
     "output_type": "stream",
     "text": [
      "[sudo] password for ejogarv: "
     ]
    },
    {
     "name": "stdout",
     "output_type": "stream",
     "text": [
      " RUST_LOG=info ./mpquic-quiche/target/debug/mp_server --listen 10.0.3.10:4433 --cert ./mpquic-quiche/src/bin/cert.crt --key ./mpquic-quiche/src/bin/cert.key --root ./ --scheduler minRtt --path-stats-output topo1-rtt/path-0.csv --conn-stats-output topo1-rtt/conn-0.csv --sched-stats-output topo1-rtt/minRtt-0.csv > topo1-rtt/server0.log&\n",
      " RUST_LOG=info ./mpquic-quiche/target/debug/mp_client -l 10.0.1.1:5555 -w 10.0.2.1:6666 --url https://10.0.3.10:4433/test.bin --download-stats-output topo1-rtt/download-0.csv> topo1-rtt/client0.log\n",
      " RUST_LOG=info ./mpquic-quiche/target/debug/mp_server --listen 10.0.3.10:4433 --cert ./mpquic-quiche/src/bin/cert.crt --key ./mpquic-quiche/src/bin/cert.key --root ./ --scheduler minRtt --path-stats-output topo1-rtt/path-1.csv --conn-stats-output topo1-rtt/conn-1.csv --sched-stats-output topo1-rtt/minRtt-1.csv > topo1-rtt/server1.log&\n",
      " RUST_LOG=info ./mpquic-quiche/target/debug/mp_client -l 10.0.1.1:5555 -w 10.0.2.1:6666 --url https://10.0.3.10:4433/test.bin --download-stats-output topo1-rtt/download-1.csv> topo1-rtt/client1.log\n",
      " RUST_LOG=info ./mpquic-quiche/target/debug/mp_server --listen 10.0.3.10:4433 --cert ./mpquic-quiche/src/bin/cert.crt --key ./mpquic-quiche/src/bin/cert.key --root ./ --scheduler minRtt --path-stats-output topo1-rtt/path-2.csv --conn-stats-output topo1-rtt/conn-2.csv --sched-stats-output topo1-rtt/minRtt-2.csv > topo1-rtt/server2.log&\n",
      " RUST_LOG=info ./mpquic-quiche/target/debug/mp_client -l 10.0.1.1:5555 -w 10.0.2.1:6666 --url https://10.0.3.10:4433/test.bin --download-stats-output topo1-rtt/download-2.csv> topo1-rtt/client2.log\n",
      " RUST_LOG=info ./mpquic-quiche/target/debug/mp_server --listen 10.0.3.10:4433 --cert ./mpquic-quiche/src/bin/cert.crt --key ./mpquic-quiche/src/bin/cert.key --root ./ --scheduler minRtt --path-stats-output topo1-rtt/path-3.csv --conn-stats-output topo1-rtt/conn-3.csv --sched-stats-output topo1-rtt/minRtt-3.csv > topo1-rtt/server3.log&\n",
      " RUST_LOG=info ./mpquic-quiche/target/debug/mp_client -l 10.0.1.1:5555 -w 10.0.2.1:6666 --url https://10.0.3.10:4433/test.bin --download-stats-output topo1-rtt/download-3.csv> topo1-rtt/client3.log\n",
      " RUST_LOG=info ./mpquic-quiche/target/debug/mp_server --listen 10.0.3.10:4433 --cert ./mpquic-quiche/src/bin/cert.crt --key ./mpquic-quiche/src/bin/cert.key --root ./ --scheduler minRtt --path-stats-output topo1-rtt/path-4.csv --conn-stats-output topo1-rtt/conn-4.csv --sched-stats-output topo1-rtt/minRtt-4.csv > topo1-rtt/server4.log&\n",
      " RUST_LOG=info ./mpquic-quiche/target/debug/mp_client -l 10.0.1.1:5555 -w 10.0.2.1:6666 --url https://10.0.3.10:4433/test.bin --download-stats-output topo1-rtt/download-4.csv> topo1-rtt/client4.log\n"
     ]
    },
    {
     "name": "stderr",
     "output_type": "stream",
     "text": [
      "[sudo] password for ejogarv: "
     ]
    },
    {
     "name": "stdout",
     "output_type": "stream",
     "text": [
      " RUST_LOG=info ./mpquic-quiche/target/debug/mp_server --listen 10.0.3.10:4433 --cert ./mpquic-quiche/src/bin/cert.crt --key ./mpquic-quiche/src/bin/cert.key --root ./ --scheduler ecf --path-stats-output topo2-ecf/path-0.csv --conn-stats-output topo2-ecf/conn-0.csv --sched-stats-output topo2-ecf/ecf-0.csv > topo2-ecf/server0.log&\n",
      " RUST_LOG=info ./mpquic-quiche/target/debug/mp_client -l 10.0.1.1:5555 -w 10.0.2.1:6666 --url https://10.0.3.10:4433/test.bin --download-stats-output topo2-ecf/download-0.csv> topo2-ecf/client0.log\n",
      " RUST_LOG=info ./mpquic-quiche/target/debug/mp_server --listen 10.0.3.10:4433 --cert ./mpquic-quiche/src/bin/cert.crt --key ./mpquic-quiche/src/bin/cert.key --root ./ --scheduler ecf --path-stats-output topo2-ecf/path-1.csv --conn-stats-output topo2-ecf/conn-1.csv --sched-stats-output topo2-ecf/ecf-1.csv > topo2-ecf/server1.log&\n",
      " RUST_LOG=info ./mpquic-quiche/target/debug/mp_client -l 10.0.1.1:5555 -w 10.0.2.1:6666 --url https://10.0.3.10:4433/test.bin --download-stats-output topo2-ecf/download-1.csv> topo2-ecf/client1.log\n",
      " RUST_LOG=info ./mpquic-quiche/target/debug/mp_server --listen 10.0.3.10:4433 --cert ./mpquic-quiche/src/bin/cert.crt --key ./mpquic-quiche/src/bin/cert.key --root ./ --scheduler ecf --path-stats-output topo2-ecf/path-2.csv --conn-stats-output topo2-ecf/conn-2.csv --sched-stats-output topo2-ecf/ecf-2.csv > topo2-ecf/server2.log&\n",
      " RUST_LOG=info ./mpquic-quiche/target/debug/mp_client -l 10.0.1.1:5555 -w 10.0.2.1:6666 --url https://10.0.3.10:4433/test.bin --download-stats-output topo2-ecf/download-2.csv> topo2-ecf/client2.log\n",
      " RUST_LOG=info ./mpquic-quiche/target/debug/mp_server --listen 10.0.3.10:4433 --cert ./mpquic-quiche/src/bin/cert.crt --key ./mpquic-quiche/src/bin/cert.key --root ./ --scheduler ecf --path-stats-output topo2-ecf/path-3.csv --conn-stats-output topo2-ecf/conn-3.csv --sched-stats-output topo2-ecf/ecf-3.csv > topo2-ecf/server3.log&\n",
      " RUST_LOG=info ./mpquic-quiche/target/debug/mp_client -l 10.0.1.1:5555 -w 10.0.2.1:6666 --url https://10.0.3.10:4433/test.bin --download-stats-output topo2-ecf/download-3.csv> topo2-ecf/client3.log\n",
      " RUST_LOG=info ./mpquic-quiche/target/debug/mp_server --listen 10.0.3.10:4433 --cert ./mpquic-quiche/src/bin/cert.crt --key ./mpquic-quiche/src/bin/cert.key --root ./ --scheduler ecf --path-stats-output topo2-ecf/path-4.csv --conn-stats-output topo2-ecf/conn-4.csv --sched-stats-output topo2-ecf/ecf-4.csv > topo2-ecf/server4.log&\n",
      " RUST_LOG=info ./mpquic-quiche/target/debug/mp_client -l 10.0.1.1:5555 -w 10.0.2.1:6666 --url https://10.0.3.10:4433/test.bin --download-stats-output topo2-ecf/download-4.csv> topo2-ecf/client4.log\n"
     ]
    },
    {
     "name": "stderr",
     "output_type": "stream",
     "text": [
      "[sudo] password for ejogarv: "
     ]
    },
    {
     "name": "stdout",
     "output_type": "stream",
     "text": [
      " RUST_LOG=info ./mpquic-quiche/target/debug/mp_server --listen 10.0.3.10:4433 --cert ./mpquic-quiche/src/bin/cert.crt --key ./mpquic-quiche/src/bin/cert.key --root ./ --scheduler minRtt --path-stats-output topo2-rtt/path-0.csv --conn-stats-output topo2-rtt/conn-0.csv --sched-stats-output topo2-rtt/minRtt-0.csv > topo2-rtt/server0.log&\n",
      " RUST_LOG=info ./mpquic-quiche/target/debug/mp_client -l 10.0.1.1:5555 -w 10.0.2.1:6666 --url https://10.0.3.10:4433/test.bin --download-stats-output topo2-rtt/download-0.csv> topo2-rtt/client0.log\n",
      " RUST_LOG=info ./mpquic-quiche/target/debug/mp_server --listen 10.0.3.10:4433 --cert ./mpquic-quiche/src/bin/cert.crt --key ./mpquic-quiche/src/bin/cert.key --root ./ --scheduler minRtt --path-stats-output topo2-rtt/path-1.csv --conn-stats-output topo2-rtt/conn-1.csv --sched-stats-output topo2-rtt/minRtt-1.csv > topo2-rtt/server1.log&\n",
      " RUST_LOG=info ./mpquic-quiche/target/debug/mp_client -l 10.0.1.1:5555 -w 10.0.2.1:6666 --url https://10.0.3.10:4433/test.bin --download-stats-output topo2-rtt/download-1.csv> topo2-rtt/client1.log\n",
      " RUST_LOG=info ./mpquic-quiche/target/debug/mp_server --listen 10.0.3.10:4433 --cert ./mpquic-quiche/src/bin/cert.crt --key ./mpquic-quiche/src/bin/cert.key --root ./ --scheduler minRtt --path-stats-output topo2-rtt/path-2.csv --conn-stats-output topo2-rtt/conn-2.csv --sched-stats-output topo2-rtt/minRtt-2.csv > topo2-rtt/server2.log&\n",
      " RUST_LOG=info ./mpquic-quiche/target/debug/mp_client -l 10.0.1.1:5555 -w 10.0.2.1:6666 --url https://10.0.3.10:4433/test.bin --download-stats-output topo2-rtt/download-2.csv> topo2-rtt/client2.log\n",
      " RUST_LOG=info ./mpquic-quiche/target/debug/mp_server --listen 10.0.3.10:4433 --cert ./mpquic-quiche/src/bin/cert.crt --key ./mpquic-quiche/src/bin/cert.key --root ./ --scheduler minRtt --path-stats-output topo2-rtt/path-3.csv --conn-stats-output topo2-rtt/conn-3.csv --sched-stats-output topo2-rtt/minRtt-3.csv > topo2-rtt/server3.log&\n",
      " RUST_LOG=info ./mpquic-quiche/target/debug/mp_client -l 10.0.1.1:5555 -w 10.0.2.1:6666 --url https://10.0.3.10:4433/test.bin --download-stats-output topo2-rtt/download-3.csv> topo2-rtt/client3.log\n",
      " RUST_LOG=info ./mpquic-quiche/target/debug/mp_server --listen 10.0.3.10:4433 --cert ./mpquic-quiche/src/bin/cert.crt --key ./mpquic-quiche/src/bin/cert.key --root ./ --scheduler minRtt --path-stats-output topo2-rtt/path-4.csv --conn-stats-output topo2-rtt/conn-4.csv --sched-stats-output topo2-rtt/minRtt-4.csv > topo2-rtt/server4.log&\n",
      " RUST_LOG=info ./mpquic-quiche/target/debug/mp_client -l 10.0.1.1:5555 -w 10.0.2.1:6666 --url https://10.0.3.10:4433/test.bin --download-stats-output topo2-rtt/download-4.csv> topo2-rtt/client4.log\n"
     ]
    },
    {
     "name": "stderr",
     "output_type": "stream",
     "text": [
      "[sudo] password for ejogarv: "
     ]
    },
    {
     "name": "stdout",
     "output_type": "stream",
     "text": [
      " RUST_LOG=info ./mpquic-quiche/target/debug/mp_server --listen 10.0.3.10:4433 --cert ./mpquic-quiche/src/bin/cert.crt --key ./mpquic-quiche/src/bin/cert.key --root ./ --scheduler ecf --path-stats-output topo3-ecf/path-0.csv --conn-stats-output topo3-ecf/conn-0.csv --sched-stats-output topo3-ecf/ecf-0.csv > topo3-ecf/server0.log&\n",
      " RUST_LOG=info ./mpquic-quiche/target/debug/mp_client -l 10.0.1.1:5555 -w 10.0.2.1:6666 --url https://10.0.3.10:4433/test.bin --download-stats-output topo3-ecf/download-0.csv> topo3-ecf/client0.log\n",
      " RUST_LOG=info ./mpquic-quiche/target/debug/mp_server --listen 10.0.3.10:4433 --cert ./mpquic-quiche/src/bin/cert.crt --key ./mpquic-quiche/src/bin/cert.key --root ./ --scheduler ecf --path-stats-output topo3-ecf/path-1.csv --conn-stats-output topo3-ecf/conn-1.csv --sched-stats-output topo3-ecf/ecf-1.csv > topo3-ecf/server1.log&\n",
      " RUST_LOG=info ./mpquic-quiche/target/debug/mp_client -l 10.0.1.1:5555 -w 10.0.2.1:6666 --url https://10.0.3.10:4433/test.bin --download-stats-output topo3-ecf/download-1.csv> topo3-ecf/client1.log\n",
      " RUST_LOG=info ./mpquic-quiche/target/debug/mp_server --listen 10.0.3.10:4433 --cert ./mpquic-quiche/src/bin/cert.crt --key ./mpquic-quiche/src/bin/cert.key --root ./ --scheduler ecf --path-stats-output topo3-ecf/path-2.csv --conn-stats-output topo3-ecf/conn-2.csv --sched-stats-output topo3-ecf/ecf-2.csv > topo3-ecf/server2.log&\n",
      " RUST_LOG=info ./mpquic-quiche/target/debug/mp_client -l 10.0.1.1:5555 -w 10.0.2.1:6666 --url https://10.0.3.10:4433/test.bin --download-stats-output topo3-ecf/download-2.csv> topo3-ecf/client2.log\n",
      " RUST_LOG=info ./mpquic-quiche/target/debug/mp_server --listen 10.0.3.10:4433 --cert ./mpquic-quiche/src/bin/cert.crt --key ./mpquic-quiche/src/bin/cert.key --root ./ --scheduler ecf --path-stats-output topo3-ecf/path-3.csv --conn-stats-output topo3-ecf/conn-3.csv --sched-stats-output topo3-ecf/ecf-3.csv > topo3-ecf/server3.log&\n",
      " RUST_LOG=info ./mpquic-quiche/target/debug/mp_client -l 10.0.1.1:5555 -w 10.0.2.1:6666 --url https://10.0.3.10:4433/test.bin --download-stats-output topo3-ecf/download-3.csv> topo3-ecf/client3.log\n",
      " RUST_LOG=info ./mpquic-quiche/target/debug/mp_server --listen 10.0.3.10:4433 --cert ./mpquic-quiche/src/bin/cert.crt --key ./mpquic-quiche/src/bin/cert.key --root ./ --scheduler ecf --path-stats-output topo3-ecf/path-4.csv --conn-stats-output topo3-ecf/conn-4.csv --sched-stats-output topo3-ecf/ecf-4.csv > topo3-ecf/server4.log&\n",
      " RUST_LOG=info ./mpquic-quiche/target/debug/mp_client -l 10.0.1.1:5555 -w 10.0.2.1:6666 --url https://10.0.3.10:4433/test.bin --download-stats-output topo3-ecf/download-4.csv> topo3-ecf/client4.log\n"
     ]
    },
    {
     "name": "stderr",
     "output_type": "stream",
     "text": [
      "[sudo] password for ejogarv: "
     ]
    },
    {
     "name": "stdout",
     "output_type": "stream",
     "text": [
      " RUST_LOG=info ./mpquic-quiche/target/debug/mp_server --listen 10.0.3.10:4433 --cert ./mpquic-quiche/src/bin/cert.crt --key ./mpquic-quiche/src/bin/cert.key --root ./ --scheduler minRtt --path-stats-output topo3-rtt/path-0.csv --conn-stats-output topo3-rtt/conn-0.csv --sched-stats-output topo3-rtt/minRtt-0.csv > topo3-rtt/server0.log&\n",
      " RUST_LOG=info ./mpquic-quiche/target/debug/mp_client -l 10.0.1.1:5555 -w 10.0.2.1:6666 --url https://10.0.3.10:4433/test.bin --download-stats-output topo3-rtt/download-0.csv> topo3-rtt/client0.log\n",
      " RUST_LOG=info ./mpquic-quiche/target/debug/mp_server --listen 10.0.3.10:4433 --cert ./mpquic-quiche/src/bin/cert.crt --key ./mpquic-quiche/src/bin/cert.key --root ./ --scheduler minRtt --path-stats-output topo3-rtt/path-1.csv --conn-stats-output topo3-rtt/conn-1.csv --sched-stats-output topo3-rtt/minRtt-1.csv > topo3-rtt/server1.log&\n",
      " RUST_LOG=info ./mpquic-quiche/target/debug/mp_client -l 10.0.1.1:5555 -w 10.0.2.1:6666 --url https://10.0.3.10:4433/test.bin --download-stats-output topo3-rtt/download-1.csv> topo3-rtt/client1.log\n",
      " RUST_LOG=info ./mpquic-quiche/target/debug/mp_server --listen 10.0.3.10:4433 --cert ./mpquic-quiche/src/bin/cert.crt --key ./mpquic-quiche/src/bin/cert.key --root ./ --scheduler minRtt --path-stats-output topo3-rtt/path-2.csv --conn-stats-output topo3-rtt/conn-2.csv --sched-stats-output topo3-rtt/minRtt-2.csv > topo3-rtt/server2.log&\n",
      " RUST_LOG=info ./mpquic-quiche/target/debug/mp_client -l 10.0.1.1:5555 -w 10.0.2.1:6666 --url https://10.0.3.10:4433/test.bin --download-stats-output topo3-rtt/download-2.csv> topo3-rtt/client2.log\n",
      " RUST_LOG=info ./mpquic-quiche/target/debug/mp_server --listen 10.0.3.10:4433 --cert ./mpquic-quiche/src/bin/cert.crt --key ./mpquic-quiche/src/bin/cert.key --root ./ --scheduler minRtt --path-stats-output topo3-rtt/path-3.csv --conn-stats-output topo3-rtt/conn-3.csv --sched-stats-output topo3-rtt/minRtt-3.csv > topo3-rtt/server3.log&\n",
      " RUST_LOG=info ./mpquic-quiche/target/debug/mp_client -l 10.0.1.1:5555 -w 10.0.2.1:6666 --url https://10.0.3.10:4433/test.bin --download-stats-output topo3-rtt/download-3.csv> topo3-rtt/client3.log\n",
      " RUST_LOG=info ./mpquic-quiche/target/debug/mp_server --listen 10.0.3.10:4433 --cert ./mpquic-quiche/src/bin/cert.crt --key ./mpquic-quiche/src/bin/cert.key --root ./ --scheduler minRtt --path-stats-output topo3-rtt/path-4.csv --conn-stats-output topo3-rtt/conn-4.csv --sched-stats-output topo3-rtt/minRtt-4.csv > topo3-rtt/server4.log&\n",
      " RUST_LOG=info ./mpquic-quiche/target/debug/mp_client -l 10.0.1.1:5555 -w 10.0.2.1:6666 --url https://10.0.3.10:4433/test.bin --download-stats-output topo3-rtt/download-4.csv> topo3-rtt/client4.log\n"
     ]
    }
   ],
   "source": [
    "password = \"ejogarv123\"\n",
    "\n",
    "for t in TOPOS:\n",
    "    for s in SCHED:\n",
    "        command = \"sudo -S python3 ./runner.py -t {topo}.yaml -x experiment_{sched}.yaml -o {topo}-{sched}\".format(topo=t, sched=s)\n",
    "        os.system('echo %s | %s' % (password, command))\n"
   ]
  },
  {
   "cell_type": "code",
   "execution_count": 29,
   "metadata": {},
   "outputs": [],
   "source": [
    "downloads = pd.DataFrame()\n",
    "\n",
    "for t in TOPOS:\n",
    "    for s in SCHED:\n",
    "        data = pd.concat([ pd.read_csv(\"./{topo}-{sched}/download-{i}.csv\".format(topo=t, sched=s, i=i),) for i in range(0,REP) ]) \n",
    "        data[\"topo\"] = t\n",
    "        data[\"sched\"] = s\n",
    "        downloads = pd.concat([downloads, data])"
   ]
  },
  {
   "cell_type": "code",
   "execution_count": 30,
   "metadata": {},
   "outputs": [],
   "source": [
    "downloads[\"mbps\"] = downloads[\"recv_bytes\"] * 8 / (1024)/ downloads[\"elapsed\"]\n",
    "\n"
   ]
  },
  {
   "cell_type": "markdown",
   "metadata": {},
   "source": [
    "<img src=\"network_img.png\" alt=\"network\" width=\"800\"/>\n",
    "\n",
    "|      | Topo1 | Topo2 | Topo3 |\n",
    "| ---- | ---   | ---   | ----  |\n",
    "| LTE  | 20 Mbps<br>5ms | 10 Mbps<br>5ms | 20 Mbps<br>5ms |\n",
    "| WIFI  | 10 Mbps<br>10ms | 10 Mbps<br>10ms | 5 Mbps<br>10ms |"
   ]
  },
  {
   "cell_type": "code",
   "execution_count": 31,
   "metadata": {},
   "outputs": [
    {
     "data": {
      "text/plain": [
       "topo1         AxesSubplot(0.1,0.679412;0.235294x0.220588)\n",
       "topo2    AxesSubplot(0.382353,0.679412;0.235294x0.220588)\n",
       "topo3    AxesSubplot(0.664706,0.679412;0.235294x0.220588)\n",
       "dtype: object"
      ]
     },
     "execution_count": 31,
     "metadata": {},
     "output_type": "execute_result"
    },
    {
     "data": {
      "image/png": "[encoded data removed]",
      "text/plain": [
       "<Figure size 800x1200 with 9 Axes>"
      ]
     },
     "metadata": {},
     "output_type": "display_data"
    }
   ],
   "source": [
    "downloads.groupby(\"topo\").boxplot(by=\"sched\", figsize=(8,12), layout=(3,3), column=\"mbps\")\n"
   ]
  },
  {
   "cell_type": "code",
   "execution_count": null,
   "metadata": {},
   "outputs": [],
   "source": []
  }
 ],
 "metadata": {
  "kernelspec": {
   "display_name": "Python 3.8.10 64-bit ('3.8.10')",
   "language": "python",
   "name": "python3"
  },
  "language_info": {
   "codemirror_mode": {
    "name": "ipython",
    "version": 3
   },
   "file_extension": ".py",
   "mimetype": "text/x-python",
   "name": "python",
   "nbconvert_exporter": "python",
   "pygments_lexer": "ipython3",
   "version": "3.8.10"
  },
  "orig_nbformat": 4,
  "vscode": {
   "interpreter": {
    "hash": "156f292fd1084402c5f583e0d055a5666a6ee57e748145ee415d526750e0698f"
   }
  }
 },
 "nbformat": 4,
 "nbformat_minor": 2
}
