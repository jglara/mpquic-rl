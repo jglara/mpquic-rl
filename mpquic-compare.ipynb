{
 "cells": [
  {
   "cell_type": "code",
   "execution_count": 20,
   "metadata": {},
   "outputs": [],
   "source": [
    "import pandas as pd\n",
    "import matplotlib.pyplot as plt\n",
    "import matplotlib.dates as mdates\n",
    "%matplotlib inline\n",
    "\n",
    "import os\n",
    "TOPOS=[\"topo1\", \"topo2\", \"topo3\"]\n",
    "#TOPOS=[\"topo4\"]\n",
    "SCHED=[\"ecf\", \"rtt\", \"rr\"]\n",
    "SIZE=[\"1\",\"10\",\"50\"]\n",
    "REP=5\n"
   ]
  },
  {
   "cell_type": "code",
   "execution_count": 21,
   "metadata": {},
   "outputs": [
    {
     "name": "stderr",
     "output_type": "stream",
     "text": [
      "[sudo] password for ejogarv: CRITICAL:root:A fatal error occurred: [Errno 2] No such file or directory: 'ecf.1.yaml'\n",
      "Traceback (most recent call last):\n",
      "  File \"./runner.py\", line 85, in <module>\n",
      "    Runner(args.topo_param_file, args.experiment_param_file, args.output_dir)\n",
      "  File \"./runner.py\", line 32, in __init__\n",
      "    self.exp_params = yaml.safe_load(open(experiment_parameter_file))['experiment']\n",
      "FileNotFoundError: [Errno 2] No such file or directory: 'ecf.1.yaml'\n",
      "[sudo] password for ejogarv: CRITICAL:root:A fatal error occurred: [Errno 2] No such file or directory: 'ecf.10.yaml'\n",
      "Traceback (most recent call last):\n",
      "  File \"./runner.py\", line 85, in <module>\n",
      "    Runner(args.topo_param_file, args.experiment_param_file, args.output_dir)\n",
      "  File \"./runner.py\", line 32, in __init__\n",
      "    self.exp_params = yaml.safe_load(open(experiment_parameter_file))['experiment']\n",
      "FileNotFoundError: [Errno 2] No such file or directory: 'ecf.10.yaml'\n",
      "[sudo] password for ejogarv: CRITICAL:root:A fatal error occurred: [Errno 2] No such file or directory: 'ecf.50.yaml'\n",
      "Traceback (most recent call last):\n",
      "  File \"./runner.py\", line 85, in <module>\n",
      "    Runner(args.topo_param_file, args.experiment_param_file, args.output_dir)\n",
      "  File \"./runner.py\", line 32, in __init__\n",
      "    self.exp_params = yaml.safe_load(open(experiment_parameter_file))['experiment']\n",
      "FileNotFoundError: [Errno 2] No such file or directory: 'ecf.50.yaml'\n",
      "[sudo] password for ejogarv: CRITICAL:root:A fatal error occurred: [Errno 2] No such file or directory: 'rtt.1.yaml'\n",
      "Traceback (most recent call last):\n",
      "  File \"./runner.py\", line 85, in <module>\n",
      "    Runner(args.topo_param_file, args.experiment_param_file, args.output_dir)\n",
      "  File \"./runner.py\", line 32, in __init__\n",
      "    self.exp_params = yaml.safe_load(open(experiment_parameter_file))['experiment']\n",
      "FileNotFoundError: [Errno 2] No such file or directory: 'rtt.1.yaml'\n",
      "[sudo] password for ejogarv: CRITICAL:root:A fatal error occurred: [Errno 2] No such file or directory: 'rtt.10.yaml'\n",
      "Traceback (most recent call last):\n",
      "  File \"./runner.py\", line 85, in <module>\n",
      "    Runner(args.topo_param_file, args.experiment_param_file, args.output_dir)\n",
      "  File \"./runner.py\", line 32, in __init__\n",
      "    self.exp_params = yaml.safe_load(open(experiment_parameter_file))['experiment']\n",
      "FileNotFoundError: [Errno 2] No such file or directory: 'rtt.10.yaml'\n",
      "[sudo] password for ejogarv: CRITICAL:root:A fatal error occurred: [Errno 2] No such file or directory: 'rtt.50.yaml'\n",
      "Traceback (most recent call last):\n",
      "  File \"./runner.py\", line 85, in <module>\n",
      "    Runner(args.topo_param_file, args.experiment_param_file, args.output_dir)\n",
      "  File \"./runner.py\", line 32, in __init__\n",
      "    self.exp_params = yaml.safe_load(open(experiment_parameter_file))['experiment']\n",
      "FileNotFoundError: [Errno 2] No such file or directory: 'rtt.50.yaml'\n",
      "[sudo] password for ejogarv: CRITICAL:root:A fatal error occurred: [Errno 2] No such file or directory: 'rr.1.yaml'\n",
      "Traceback (most recent call last):\n",
      "  File \"./runner.py\", line 85, in <module>\n",
      "    Runner(args.topo_param_file, args.experiment_param_file, args.output_dir)\n",
      "  File \"./runner.py\", line 32, in __init__\n",
      "    self.exp_params = yaml.safe_load(open(experiment_parameter_file))['experiment']\n",
      "FileNotFoundError: [Errno 2] No such file or directory: 'rr.1.yaml'\n",
      "[sudo] password for ejogarv: CRITICAL:root:A fatal error occurred: [Errno 2] No such file or directory: 'rr.10.yaml'\n",
      "Traceback (most recent call last):\n",
      "  File \"./runner.py\", line 85, in <module>\n",
      "    Runner(args.topo_param_file, args.experiment_param_file, args.output_dir)\n",
      "  File \"./runner.py\", line 32, in __init__\n",
      "    self.exp_params = yaml.safe_load(open(experiment_parameter_file))['experiment']\n",
      "FileNotFoundError: [Errno 2] No such file or directory: 'rr.10.yaml'\n",
      "[sudo] password for ejogarv: CRITICAL:root:A fatal error occurred: [Errno 2] No such file or directory: 'rr.50.yaml'\n",
      "Traceback (most recent call last):\n",
      "  File \"./runner.py\", line 85, in <module>\n",
      "    Runner(args.topo_param_file, args.experiment_param_file, args.output_dir)\n",
      "  File \"./runner.py\", line 32, in __init__\n",
      "    self.exp_params = yaml.safe_load(open(experiment_parameter_file))['experiment']\n",
      "FileNotFoundError: [Errno 2] No such file or directory: 'rr.50.yaml'\n",
      "[sudo] password for ejogarv: CRITICAL:root:A fatal error occurred: [Errno 2] No such file or directory: 'ecf.1.yaml'\n",
      "Traceback (most recent call last):\n",
      "  File \"./runner.py\", line 85, in <module>\n",
      "    Runner(args.topo_param_file, args.experiment_param_file, args.output_dir)\n",
      "  File \"./runner.py\", line 32, in __init__\n",
      "    self.exp_params = yaml.safe_load(open(experiment_parameter_file))['experiment']\n",
      "FileNotFoundError: [Errno 2] No such file or directory: 'ecf.1.yaml'\n",
      "[sudo] password for ejogarv: CRITICAL:root:A fatal error occurred: [Errno 2] No such file or directory: 'ecf.10.yaml'\n",
      "Traceback (most recent call last):\n",
      "  File \"./runner.py\", line 85, in <module>\n",
      "    Runner(args.topo_param_file, args.experiment_param_file, args.output_dir)\n",
      "  File \"./runner.py\", line 32, in __init__\n",
      "    self.exp_params = yaml.safe_load(open(experiment_parameter_file))['experiment']\n",
      "FileNotFoundError: [Errno 2] No such file or directory: 'ecf.10.yaml'\n",
      "[sudo] password for ejogarv: CRITICAL:root:A fatal error occurred: [Errno 2] No such file or directory: 'ecf.50.yaml'\n",
      "Traceback (most recent call last):\n",
      "  File \"./runner.py\", line 85, in <module>\n",
      "    Runner(args.topo_param_file, args.experiment_param_file, args.output_dir)\n",
      "  File \"./runner.py\", line 32, in __init__\n",
      "    self.exp_params = yaml.safe_load(open(experiment_parameter_file))['experiment']\n",
      "FileNotFoundError: [Errno 2] No such file or directory: 'ecf.50.yaml'\n",
      "[sudo] password for ejogarv: "
     ]
    }
   ],
   "source": [
    "password = \"ejogarv123\"\n",
    "\n",
    "for t in TOPOS:\n",
    "    for s in SCHED:\n",
    "        for d in SIZE:\n",
    "            command = \"sudo -S python3 ./runner.py -t {topo}.yaml -x {sched}-{size}.yaml -o {topo}-{sched}-{size}\".format(topo=t, sched=s, size=d)\n",
    "            os.system('echo %s | %s' % (password, command))\n"
   ]
  },
  {
   "cell_type": "code",
   "execution_count": 16,
   "metadata": {},
   "outputs": [],
   "source": [
    "downloads = pd.DataFrame()\n",
    "\n",
    "for t in TOPOS:\n",
    "    for s in SCHED:\n",
    "        for d in SIZE:\n",
    "            data = pd.concat([ pd.read_csv(\"./{topo}-{sched}-{size}/download-{i}.csv\".format(topo=t, sched=s, size=d, i=i),) for i in range(0,REP) ]) \n",
    "            data[\"topo\"] = t\n",
    "            data[\"sched\"] = s\n",
    "            data[\"size\"] = d\n",
    "            downloads = pd.concat([downloads, data])"
   ]
  },
  {
   "cell_type": "code",
   "execution_count": 17,
   "metadata": {},
   "outputs": [],
   "source": [
    "downloads[\"mbps\"] = downloads[\"recv_bytes\"] * 8 / (1024)/ downloads[\"elapsed\"]\n",
    "\n"
   ]
  },
  {
   "cell_type": "markdown",
   "metadata": {},
   "source": [
    "<img src=\"network_img.png\" alt=\"network\" width=\"800\"/>\n",
    "\n",
    "|      | Topo1 | Topo2 | Topo3 |\n",
    "| ---- | ---   | ---   | ----  |\n",
    "| LTE  | 10 Mbps<br>10ms | 20 Mbps<br>5ms | 100 Mbps<br>5ms |\n",
    "| WIFI  | 10 Mbps<br>10ms | 10 Mbps<br>10ms | 10 Mbps<br>50ms |"
   ]
  },
  {
   "cell_type": "code",
   "execution_count": 19,
   "metadata": {},
   "outputs": [
    {
     "ename": "KeyError",
     "evalue": "'size'",
     "output_type": "error",
     "traceback": [
      "\u001b[0;31m---------------------------------------------------------------------------\u001b[0m",
      "\u001b[0;31mKeyError\u001b[0m                                  Traceback (most recent call last)",
      "Cell \u001b[0;32mIn [19], line 1\u001b[0m\n\u001b[0;32m----> 1\u001b[0m downloads\u001b[39m.\u001b[39;49mgroupby([\u001b[39m\"\u001b[39;49m\u001b[39mtopo\u001b[39;49m\u001b[39m\"\u001b[39;49m,\u001b[39m\"\u001b[39;49m\u001b[39msize\u001b[39;49m\u001b[39m\"\u001b[39;49m])\u001b[39m.\u001b[39mboxplot(by\u001b[39m=\u001b[39m\u001b[39m\"\u001b[39m\u001b[39msched\u001b[39m\u001b[39m\"\u001b[39m, figsize\u001b[39m=\u001b[39m(\u001b[39m8\u001b[39m,\u001b[39m12\u001b[39m), layout\u001b[39m=\u001b[39m(\u001b[39m3\u001b[39m,\u001b[39m3\u001b[39m), column\u001b[39m=\u001b[39m\u001b[39m\"\u001b[39m\u001b[39mmbps\u001b[39m\u001b[39m\"\u001b[39m)\n",
      "File \u001b[0;32m~/.pyenv/versions/3.8.10/lib/python3.8/site-packages/pandas/core/frame.py:8392\u001b[0m, in \u001b[0;36mDataFrame.groupby\u001b[0;34m(self, by, axis, level, as_index, sort, group_keys, squeeze, observed, dropna)\u001b[0m\n\u001b[1;32m   8389\u001b[0m     \u001b[39mraise\u001b[39;00m \u001b[39mTypeError\u001b[39;00m(\u001b[39m\"\u001b[39m\u001b[39mYou have to supply one of \u001b[39m\u001b[39m'\u001b[39m\u001b[39mby\u001b[39m\u001b[39m'\u001b[39m\u001b[39m and \u001b[39m\u001b[39m'\u001b[39m\u001b[39mlevel\u001b[39m\u001b[39m'\u001b[39m\u001b[39m\"\u001b[39m)\n\u001b[1;32m   8390\u001b[0m axis \u001b[39m=\u001b[39m \u001b[39mself\u001b[39m\u001b[39m.\u001b[39m_get_axis_number(axis)\n\u001b[0;32m-> 8392\u001b[0m \u001b[39mreturn\u001b[39;00m DataFrameGroupBy(\n\u001b[1;32m   8393\u001b[0m     obj\u001b[39m=\u001b[39;49m\u001b[39mself\u001b[39;49m,\n\u001b[1;32m   8394\u001b[0m     keys\u001b[39m=\u001b[39;49mby,\n\u001b[1;32m   8395\u001b[0m     axis\u001b[39m=\u001b[39;49maxis,\n\u001b[1;32m   8396\u001b[0m     level\u001b[39m=\u001b[39;49mlevel,\n\u001b[1;32m   8397\u001b[0m     as_index\u001b[39m=\u001b[39;49mas_index,\n\u001b[1;32m   8398\u001b[0m     sort\u001b[39m=\u001b[39;49msort,\n\u001b[1;32m   8399\u001b[0m     group_keys\u001b[39m=\u001b[39;49mgroup_keys,\n\u001b[1;32m   8400\u001b[0m     squeeze\u001b[39m=\u001b[39;49msqueeze,\n\u001b[1;32m   8401\u001b[0m     observed\u001b[39m=\u001b[39;49mobserved,\n\u001b[1;32m   8402\u001b[0m     dropna\u001b[39m=\u001b[39;49mdropna,\n\u001b[1;32m   8403\u001b[0m )\n",
      "File \u001b[0;32m~/.pyenv/versions/3.8.10/lib/python3.8/site-packages/pandas/core/groupby/groupby.py:959\u001b[0m, in \u001b[0;36mGroupBy.__init__\u001b[0;34m(self, obj, keys, axis, level, grouper, exclusions, selection, as_index, sort, group_keys, squeeze, observed, mutated, dropna)\u001b[0m\n\u001b[1;32m    956\u001b[0m \u001b[39mif\u001b[39;00m grouper \u001b[39mis\u001b[39;00m \u001b[39mNone\u001b[39;00m:\n\u001b[1;32m    957\u001b[0m     \u001b[39mfrom\u001b[39;00m \u001b[39mpandas\u001b[39;00m\u001b[39m.\u001b[39;00m\u001b[39mcore\u001b[39;00m\u001b[39m.\u001b[39;00m\u001b[39mgroupby\u001b[39;00m\u001b[39m.\u001b[39;00m\u001b[39mgrouper\u001b[39;00m \u001b[39mimport\u001b[39;00m get_grouper\n\u001b[0;32m--> 959\u001b[0m     grouper, exclusions, obj \u001b[39m=\u001b[39m get_grouper(\n\u001b[1;32m    960\u001b[0m         obj,\n\u001b[1;32m    961\u001b[0m         keys,\n\u001b[1;32m    962\u001b[0m         axis\u001b[39m=\u001b[39;49maxis,\n\u001b[1;32m    963\u001b[0m         level\u001b[39m=\u001b[39;49mlevel,\n\u001b[1;32m    964\u001b[0m         sort\u001b[39m=\u001b[39;49msort,\n\u001b[1;32m    965\u001b[0m         observed\u001b[39m=\u001b[39;49mobserved,\n\u001b[1;32m    966\u001b[0m         mutated\u001b[39m=\u001b[39;49m\u001b[39mself\u001b[39;49m\u001b[39m.\u001b[39;49mmutated,\n\u001b[1;32m    967\u001b[0m         dropna\u001b[39m=\u001b[39;49m\u001b[39mself\u001b[39;49m\u001b[39m.\u001b[39;49mdropna,\n\u001b[1;32m    968\u001b[0m     )\n\u001b[1;32m    970\u001b[0m \u001b[39mself\u001b[39m\u001b[39m.\u001b[39mobj \u001b[39m=\u001b[39m obj\n\u001b[1;32m    971\u001b[0m \u001b[39mself\u001b[39m\u001b[39m.\u001b[39maxis \u001b[39m=\u001b[39m obj\u001b[39m.\u001b[39m_get_axis_number(axis)\n",
      "File \u001b[0;32m~/.pyenv/versions/3.8.10/lib/python3.8/site-packages/pandas/core/groupby/grouper.py:889\u001b[0m, in \u001b[0;36mget_grouper\u001b[0;34m(obj, key, axis, level, sort, observed, mutated, validate, dropna)\u001b[0m\n\u001b[1;32m    887\u001b[0m         in_axis, level, gpr \u001b[39m=\u001b[39m \u001b[39mFalse\u001b[39;00m, gpr, \u001b[39mNone\u001b[39;00m\n\u001b[1;32m    888\u001b[0m     \u001b[39melse\u001b[39;00m:\n\u001b[0;32m--> 889\u001b[0m         \u001b[39mraise\u001b[39;00m \u001b[39mKeyError\u001b[39;00m(gpr)\n\u001b[1;32m    890\u001b[0m \u001b[39melif\u001b[39;00m \u001b[39misinstance\u001b[39m(gpr, Grouper) \u001b[39mand\u001b[39;00m gpr\u001b[39m.\u001b[39mkey \u001b[39mis\u001b[39;00m \u001b[39mnot\u001b[39;00m \u001b[39mNone\u001b[39;00m:\n\u001b[1;32m    891\u001b[0m     \u001b[39m# Add key to exclusions\u001b[39;00m\n\u001b[1;32m    892\u001b[0m     exclusions\u001b[39m.\u001b[39madd(gpr\u001b[39m.\u001b[39mkey)\n",
      "\u001b[0;31mKeyError\u001b[0m: 'size'"
     ]
    }
   ],
   "source": [
    "downloads.groupby([\"topo\",\"size\"]).boxplot(by=\"sched\", figsize=(8,12), layout=(3,3), column=\"mbps\")\n"
   ]
  },
  {
   "cell_type": "code",
   "execution_count": null,
   "metadata": {},
   "outputs": [],
   "source": []
  }
 ],
 "metadata": {
  "kernelspec": {
   "display_name": "Python 3.8.10 64-bit ('3.8.10')",
   "language": "python",
   "name": "python3"
  },
  "language_info": {
   "codemirror_mode": {
    "name": "ipython",
    "version": 3
   },
   "file_extension": ".py",
   "mimetype": "text/x-python",
   "name": "python",
   "nbconvert_exporter": "python",
   "pygments_lexer": "ipython3",
   "version": "3.8.10"
  },
  "orig_nbformat": 4,
  "vscode": {
   "interpreter": {
    "hash": "156f292fd1084402c5f583e0d055a5666a6ee57e748145ee415d526750e0698f"
   }
  }
 },
 "nbformat": 4,
 "nbformat_minor": 2
}
